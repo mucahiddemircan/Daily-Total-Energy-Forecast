{
 "cells": [
  {
   "cell_type": "markdown",
   "id": "51148162",
   "metadata": {},
   "source": [
    "# Daily Total Energy Forecasting (March - July) -> (August)"
   ]
  },
  {
   "cell_type": "markdown",
   "id": "a4e8e4ee",
   "metadata": {},
   "source": [
    "### Libraries & Setup"
   ]
  },
  {
   "cell_type": "code",
   "execution_count": null,
   "id": "d95963d9",
   "metadata": {},
   "outputs": [],
   "source": [
    "import numpy as np\n",
    "import pandas as pd\n",
    "import matplotlib.pyplot as plt\n",
    "import seaborn as sns\n",
    "import joblib\n",
    "\n",
    "from sklearn.preprocessing import StandardScaler\n",
    "from sklearn.ensemble import RandomForestRegressor\n",
    "from xgboost import XGBRegressor\n",
    "from sklearn.metrics import mean_absolute_error, mean_squared_error\n",
    "from tensorflow.keras.models import Sequential\n",
    "from tensorflow.keras.layers import LSTM, Dense\n",
    "from tensorflow.keras.optimizers import Adam\n",
    "from tensorflow.keras.callbacks import EarlyStopping as Keras_EarlyStopping\n",
    "\n",
    "import warnings\n",
    "warnings.filterwarnings(\"ignore\")\n",
    "\n",
    "pd.set_option(\"display.max_columns\", None)\n",
    "pd.set_option(\"display.max_rows\", None)\n",
    "pd.set_option(\"display.width\", 2000)"
   ]
  },
  {
   "cell_type": "markdown",
   "id": "901268e5",
   "metadata": {},
   "source": [
    "### Data Loading"
   ]
  },
  {
   "cell_type": "code",
   "execution_count": null,
   "id": "757d00f5",
   "metadata": {},
   "outputs": [],
   "source": [
    "df_march = pd.read_csv(\"../data/tpe6_march_2025_daily.csv\")\n",
    "df_april = pd.read_csv(\"../data/tpe6_april_2025_daily.csv\")\n",
    "df_may = pd.read_csv(\"../data/tpe6_may_2025_daily.csv\")\n",
    "df_june = pd.read_csv(\"../data/tpe6_june_2025_daily.csv\")\n",
    "df_july = pd.read_csv(\"../data/tpe6_july_2025_daily.csv\")\n",
    "\n",
    "# Combine all monthly data into a single DataFrame\n",
    "df = pd.concat([df_march, df_april, df_may, df_june, df_july], ignore_index=True)\n",
    "\n",
    "print(f\"Combined Data Shape: {df.shape}\\n\")\n",
    "print(\"Data Preview:\", df.head())"
   ]
  },
  {
   "cell_type": "code",
   "execution_count": null,
   "id": "68bd5222",
   "metadata": {},
   "outputs": [],
   "source": [
    "### Data Preparation"
   ]
  },
  {
   "cell_type": "code",
   "execution_count": null,
   "id": "a037ccfe",
   "metadata": {},
   "outputs": [],
   "source": [
    "# Convert DateTime column to datetime type and set as index\n",
    "df[\"DateTime\"] = pd.to_datetime(df[\"DateTime\"])\n",
    "df = df.set_index(\"DateTime\")\n",
    "\n",
    "# Drop columns with all missing values\n",
    "missing_counts = df.isnull().sum()\n",
    "cols_to_drop = missing_counts[missing_counts == 153].index\n",
    "df = df.drop(columns=cols_to_drop)\n",
    "print(f\"{len(cols_to_drop)} columns dropped.\\n\")\n",
    "\n",
    "# Drop columns with a single unique value\n",
    "unique_counts = df.nunique()\n",
    "cols_to_drop = unique_counts[unique_counts == 1].index\n",
    "df = df.drop(columns=cols_to_drop)\n",
    "print(f\"{len(cols_to_drop)} columns dropped: {list(cols_to_drop)}\\n\")\n",
    "\n",
    "# Remove square brackets from column names\n",
    "df.columns = df.columns.str.strip().str.replace(\"[\", \"\").str.replace(\"]\", \"\")\n",
    "\n",
    "# Remove TPE 0006\n",
    "df.columns = df.columns.str.replace(r\"_TPE_\\d+\\.\", \"_\", regex=True)\n",
    "df.columns = df.columns.str.replace(r\"TPE_\\d+\\.\", \"\", regex=True)\n",
    "\n",
    "df = df[[\n",
    "    \"EnerjiAnalizor_Current\",\n",
    "    \"EnerjiAnalizor_Total_Power\",\n",
    "    \"EnerjiAnalizor_Voltage_LL\",\n",
    "    \"EnerjiAnalizor_Voltage_LN\",\n",
    "    \"EnerjiAnalizor_Total_Kwh\",\n",
    "    #\"Running\"\n",
    "]]\n",
    "\n",
    "# Feature engineering: Daily Consumption\n",
    "df[\"Daily_Energy_Consumption\"] = df[\"EnerjiAnalizor_Total_Kwh\"].diff().clip(lower=0).fillna(0)\n",
    "\n",
    "# Show null value counts\n",
    "print(\"Null Value Counts:\")\n",
    "print(df.isnull().sum())"
   ]
  },
  {
   "cell_type": "markdown",
   "id": "3cf8ff8c",
   "metadata": {},
   "source": [
    "### Data Visualization"
   ]
  },
  {
   "cell_type": "code",
   "execution_count": null,
   "id": "50f20d14",
   "metadata": {},
   "outputs": [],
   "source": [
    "# Plot EnerjiAnalizor_Total_Kwh vs Time\n",
    "plt.figure(figsize=(10, 5))\n",
    "plt.plot(df.index, df[\"EnerjiAnalizor_Total_Kwh\"], color=\"blue\")\n",
    "plt.title(\"EnerjiAnalizor_Total_Kwh vs Time\")\n",
    "plt.xlabel(\"Time\")\n",
    "plt.ylabel(\"EnerjiAnalizor_Total_Kwh\")\n",
    "plt.show()\n",
    "\n",
    "# Plot Daily_Energy_Consumption vs Time\n",
    "plt.figure(figsize=(16, 4))\n",
    "plt.plot(df.index, df[\"Daily_Energy_Consumption\"], color=\"green\")\n",
    "plt.title(\"Daily_Energy_Consumption vs Time\")\n",
    "plt.xlabel(\"Time\")\n",
    "plt.ylabel(\"Daily_Energy_Consumption (kWh)\")\n",
    "plt.show()\n",
    "\n",
    "# Correlation Heatmap\n",
    "plt.figure(figsize=(5, 5))\n",
    "sns.heatmap(df.corr(), annot=True, cbar=False, cmap='Blues', fmt='.1f')\n",
    "plt.title(\"Correlation Heatmap\")\n",
    "plt.show()"
   ]
  },
  {
   "cell_type": "markdown",
   "id": "87c8a21b",
   "metadata": {},
   "source": [
    "### Feature Engineering"
   ]
  },
  {
   "cell_type": "code",
   "execution_count": null,
   "id": "c30b30d6",
   "metadata": {},
   "outputs": [],
   "source": [
    "# No correlation with Voltage columns then drop them\n",
    "df = df.drop(columns=[\"EnerjiAnalizor_Voltage_LL\", \"EnerjiAnalizor_Voltage_LN\"])\n",
    "\n",
    "# Create lag & time features\n",
    "def create_features(df):\n",
    "    df_feat = df.copy()\n",
    "    # Lags (daily consumption)\n",
    "    for lag in [1,7,14,28]:\n",
    "        df_feat[f\"lag_{lag}\"] = df_feat[\"Daily_Energy_Consumption\"].shift(lag)\n",
    "\n",
    "    # Time features\n",
    "    df_feat[\"dayofweek\"] = df_feat.index.dayofweek\n",
    "    df_feat[\"month\"] = df_feat.index.month\n",
    "    df_feat[\"is_weekend\"] = (df_feat.index.dayofweek >= 5).astype(int)\n",
    "        \n",
    "    # Fill NA (initial rows)\n",
    "    df_feat = df_feat.fillna(method=\"bfill\").fillna(0)\n",
    "    return df_feat\n",
    "\n",
    "df_feat = create_features(df)\n",
    "print(df_feat.head())\n",
    "\n",
    "# Feature columns to use for tree models\n",
    "feature_cols = [\"EnerjiAnalizor_Current\", \"EnerjiAnalizor_Total_Power\", #\"Running\",\n",
    "                \"lag_1\", \"lag_7\", \"lag_14\", \"lag_28\", \"dayofweek\", \"month\",\n",
    "                \"is_weekend\"]\n",
    "\n",
    "# Correlation Heatmap\n",
    "plt.figure(figsize=(8, 8))\n",
    "sns.heatmap(df_feat.corr(), annot=True, cbar=False, cmap='Blues', fmt='.1f')\n",
    "plt.title(\"Correlation Heatmap\")\n",
    "plt.show()"
   ]
  },
  {
   "cell_type": "markdown",
   "id": "6836d607",
   "metadata": {},
   "source": [
    "### Train / Validation split"
   ]
  },
  {
   "cell_type": "code",
   "execution_count": null,
   "id": "2911b587",
   "metadata": {},
   "outputs": [],
   "source": [
    "train_end = pd.to_datetime(\"2025-06-30\")   # train: March->June\n",
    "val_start = pd.to_datetime(\"2025-07-01\")   # validation: July\n",
    "val_end = pd.to_datetime(\"2025-07-31\")\n",
    "\n",
    "train_mask = (df_feat.index <= train_end)\n",
    "val_mask = (df_feat.index >= val_start) & (df_feat.index <= val_end)\n",
    "\n",
    "X_train = df_feat.loc[train_mask, feature_cols]\n",
    "y_train = df_feat.loc[train_mask, \"Daily_Energy_Consumption\"]\n",
    "\n",
    "X_val = df_feat.loc[val_mask, feature_cols]\n",
    "y_val = df_feat.loc[val_mask, \"Daily_Energy_Consumption\"]\n",
    "\n",
    "print(\"Train size:\", X_train.shape, \" Val size:\", X_val.shape)"
   ]
  },
  {
   "cell_type": "markdown",
   "id": "99754ffb",
   "metadata": {},
   "source": [
    "### Tree Models Training & Evaluation"
   ]
  },
  {
   "cell_type": "code",
   "execution_count": null,
   "id": "7dea45a7",
   "metadata": {},
   "outputs": [],
   "source": [
    "# Train RandomForest & XGBoost\n",
    "rf = RandomForestRegressor(n_estimators=400, max_depth=10, min_samples_split=5, random_state=42, n_jobs=-1)\n",
    "rf.fit(X_train, y_train)\n",
    "\n",
    "xgb = XGBRegressor(n_estimators=500, learning_rate=0.2, random_state=42)\n",
    "xgb.fit(X_train, y_train)\n",
    "\n",
    "# Evaluate on validation set (tree models)\n",
    "def evaluate_preds(y_true, y_pred):\n",
    "    mae = mean_absolute_error(y_true, y_pred)\n",
    "    rmse = np.sqrt(mean_squared_error(y_true, y_pred))\n",
    "    return {\"MAE\":mae, \"RMSE\":rmse}\n",
    "\n",
    "pred_rf_val = rf.predict(X_val)\n",
    "print(\"RandomForest validation metrics:\", evaluate_preds(y_val, pred_rf_val))\n",
    "\n",
    "pred_xgb_val = xgb.predict(X_val)\n",
    "print(\"XGBoost validation metrics:\", evaluate_preds(y_val, pred_xgb_val))"
   ]
  },
  {
   "cell_type": "markdown",
   "id": "e2827c83",
   "metadata": {},
   "source": [
    "### LSTM Model Training & Evaluation"
   ]
  },
  {
   "cell_type": "code",
   "execution_count": null,
   "id": "4f259184",
   "metadata": {},
   "outputs": [],
   "source": [
    "# Generating sequence data only from Daily_Energy_Consumption\n",
    "series = df[\"Daily_Energy_Consumption\"].values.reshape(-1,1)\n",
    "scaler = StandardScaler()\n",
    "series_scaled = scaler.fit_transform(series)\n",
    "\n",
    "seq_len = 14\n",
    "X_seq, y_seq = [], []\n",
    "for i in range(seq_len, len(series_scaled)):\n",
    "    X_seq.append(series_scaled[i-seq_len:i])\n",
    "    y_seq.append(series_scaled[i])\n",
    "X_seq, y_seq = np.array(X_seq), np.array(y_seq)\n",
    "\n",
    "# Train/Val split index\n",
    "split_idx = df.index.get_loc(val_start)\n",
    "X_train_seq, y_train_seq = X_seq[:split_idx], y_seq[:split_idx]\n",
    "X_val_seq, y_val_seq = X_seq[split_idx:], y_seq[split_idx:]\n",
    "\n",
    "# LSTM model\n",
    "model = Sequential()\n",
    "model.add(LSTM(32, activation=\"relu\", input_shape=(seq_len,1)))\n",
    "model.add(Dense(16, activation=\"relu\"))\n",
    "model.add(Dense(1))\n",
    "\n",
    "model.compile(optimizer=Adam(learning_rate=0.1), loss=\"mse\")\n",
    "early_stop = Keras_EarlyStopping(monitor=\"val_loss\", patience=10, restore_best_weights=True)\n",
    "model.fit(X_train_seq, y_train_seq, epochs=50, batch_size=8, verbose=1, callbacks=[early_stop])\n",
    "\n",
    "y_val_pred_scaled = model.predict(X_val_seq)\n",
    "y_val_pred = scaler.inverse_transform(y_val_pred_scaled)\n",
    "y_val_true = scaler.inverse_transform(y_val_seq)\n",
    "\n",
    "print(\"LSTM MAE, RMSE:\", evaluate_preds(y_val_true, y_val_pred))"
   ]
  },
  {
   "cell_type": "markdown",
   "id": "756f77f9",
   "metadata": {},
   "source": [
    "### Feature Forecast Stage"
   ]
  },
  {
   "cell_type": "code",
   "execution_count": null,
   "id": "7b20f3aa",
   "metadata": {},
   "outputs": [],
   "source": [
    "feature_targets = [\"EnerjiAnalizor_Current\", \"EnerjiAnalizor_Total_Power\"]#, \"Running\"]\n",
    "last_date = df.index.max()\n",
    "last_total = df[\"EnerjiAnalizor_Total_Kwh\"].iloc[-1]\n",
    "future_dates = pd.date_range(last_date + pd.Timedelta(days=1), periods=31)\n",
    "\n",
    "feature_models = {}\n",
    "future_feature_preds = pd.DataFrame(index=future_dates)\n",
    "\n",
    "for ft in feature_targets:\n",
    "    print(f\"Training feature model for: {ft}\")\n",
    "    X_train_ft = df_feat.loc[train_mask, [\"lag_1\",\"lag_7\",\"lag_14\",\"lag_28\",\"dayofweek\",\"month\",\"is_weekend\"]]\n",
    "    y_train_ft = df_feat.loc[train_mask, ft]\n",
    "\n",
    "    model_ft = XGBRegressor(n_estimators=500, learning_rate=0.2, random_state=42)\n",
    "    model_ft.fit(X_train_ft, y_train_ft)\n",
    "    feature_models[ft] = model_ft\n",
    "\n",
    "    # Forecast step-by-step\n",
    "    history_ft = df_feat.copy()\n",
    "    preds_ft = []\n",
    "    for date in future_dates:\n",
    "        feat_ft = {\n",
    "            \"lag_1\": history_ft[ft].iloc[-1],\n",
    "            \"lag_7\": history_ft[ft].iloc[-7],\n",
    "            \"lag_14\": history_ft[ft].iloc[-14],\n",
    "            \"lag_28\": history_ft[ft].iloc[-28],\n",
    "            \"dayofweek\": date.dayofweek,\n",
    "            \"month\": date.month,\n",
    "            \"is_weekend\": 1 if date.dayofweek >= 5 else 0\n",
    "        }\n",
    "        X_new_ft = pd.DataFrame([feat_ft])\n",
    "        pred_ft = model_ft.predict(X_new_ft)[0]\n",
    "        preds_ft.append(pred_ft)\n",
    "        history_ft.loc[date, ft] = pred_ft\n",
    "\n",
    "    future_feature_preds[ft] = preds_ft\n",
    "\n",
    "print(\"\\nFuture feature forecasts ready:\")\n",
    "print(future_feature_preds.head())"
   ]
  },
  {
   "cell_type": "markdown",
   "id": "f444f41e",
   "metadata": {},
   "source": [
    "### August Forecast (31 days) with Random Forest"
   ]
  },
  {
   "cell_type": "code",
   "execution_count": null,
   "id": "189a29b0",
   "metadata": {},
   "outputs": [],
   "source": [
    "rf_energy = RandomForestRegressor(n_estimators=400, max_depth=10, min_samples_split=5, random_state=42, n_jobs=-1)\n",
    "rf_energy.fit(X_train, y_train)\n",
    "\n",
    "rf_preds = []\n",
    "total_rf = []\n",
    "cur_total_rf = last_total\n",
    "\n",
    "history_rf = df_feat.copy()\n",
    "\n",
    "for i, date in enumerate(future_dates):\n",
    "    # first, add feature forecast values\n",
    "    history_rf.loc[date, \"EnerjiAnalizor_Current\"] = future_feature_preds.loc[date, \"EnerjiAnalizor_Current\"]\n",
    "    history_rf.loc[date, \"EnerjiAnalizor_Total_Power\"] = future_feature_preds.loc[date, \"EnerjiAnalizor_Total_Power\"]\n",
    "    #history_rf.loc[date, \"Running\"] = future_feature_preds.loc[date, \"Running\"]\n",
    "\n",
    "    feat = {\n",
    "        \"EnerjiAnalizor_Current\": history_rf.loc[date, \"EnerjiAnalizor_Current\"],\n",
    "        \"EnerjiAnalizor_Total_Power\": history_rf.loc[date, \"EnerjiAnalizor_Total_Power\"],\n",
    "        #\"Running\": history_rf.loc[date, \"Running\"],\n",
    "        \"lag_1\": history_rf[\"Daily_Energy_Consumption\"].iloc[-1],\n",
    "        \"lag_7\": history_rf[\"Daily_Energy_Consumption\"].iloc[-7],\n",
    "        \"lag_14\": history_rf[\"Daily_Energy_Consumption\"].iloc[-14],\n",
    "        \"lag_28\": history_rf[\"Daily_Energy_Consumption\"].iloc[-28],\n",
    "        \"dayofweek\": date.dayofweek,\n",
    "        \"month\": date.month,\n",
    "        \"is_weekend\": 1 if date.dayofweek >= 5 else 0,\n",
    "    }\n",
    "\n",
    "    X_new = pd.DataFrame([feat])\n",
    "    pred = rf_energy.predict(X_new)[0]\n",
    "    rf_preds.append(pred)\n",
    "    cur_total_rf += pred\n",
    "    total_rf.append(cur_total_rf)\n",
    "\n",
    "    history_rf.loc[date, \"Daily_Energy_Consumption\"] = pred\n",
    "\n",
    "forecast_df = pd.DataFrame({\n",
    "    \"Daily_RF\": rf_preds,\n",
    "    \"Total_RF\": total_rf\n",
    "}, index=future_dates)"
   ]
  },
  {
   "cell_type": "markdown",
   "id": "e96ae35c",
   "metadata": {},
   "source": [
    "### August forecast (31 days) with XGBoost"
   ]
  },
  {
   "cell_type": "code",
   "execution_count": null,
   "id": "9803383b",
   "metadata": {},
   "outputs": [],
   "source": [
    "xgb_energy = XGBRegressor(n_estimators=500, learning_rate=0.2, random_state=42)\n",
    "xgb_energy.fit(X_train, y_train)\n",
    "\n",
    "xgb_preds = []\n",
    "total_xgb = []\n",
    "cur_total_xgb = last_total\n",
    "\n",
    "history_xgb = df_feat.copy()\n",
    "\n",
    "for i, date in enumerate(future_dates):\n",
    "    # Add feature forecasts\n",
    "    history_xgb.loc[date, \"EnerjiAnalizor_Current\"] = future_feature_preds.loc[date, \"EnerjiAnalizor_Current\"]\n",
    "    history_xgb.loc[date, \"EnerjiAnalizor_Total_Power\"] = future_feature_preds.loc[date, \"EnerjiAnalizor_Total_Power\"]\n",
    "    #history_xgb.loc[date, \"Running\"] = future_feature_preds.loc[date, \"Running\"]\n",
    "\n",
    "    feat = {\n",
    "        \"EnerjiAnalizor_Current\": history_xgb.loc[date, \"EnerjiAnalizor_Current\"],\n",
    "        \"EnerjiAnalizor_Total_Power\": history_xgb.loc[date, \"EnerjiAnalizor_Total_Power\"],\n",
    "        #\"Running\": history_xgb.loc[date, \"Running\"],\n",
    "        \"lag_1\": history_xgb[\"Daily_Energy_Consumption\"].iloc[-1],\n",
    "        \"lag_7\": history_xgb[\"Daily_Energy_Consumption\"].iloc[-7],\n",
    "        \"lag_14\": history_xgb[\"Daily_Energy_Consumption\"].iloc[-14],\n",
    "        \"lag_28\": history_xgb[\"Daily_Energy_Consumption\"].iloc[-28],\n",
    "        \"dayofweek\": date.dayofweek,\n",
    "        \"month\": date.month,\n",
    "        \"is_weekend\": 1 if date.dayofweek >= 5 else 0,\n",
    "    }\n",
    "\n",
    "    X_new = pd.DataFrame([feat])\n",
    "    pred = xgb_energy.predict(X_new)[0]\n",
    "    xgb_preds.append(pred)\n",
    "    cur_total_xgb += pred\n",
    "    total_xgb.append(cur_total_xgb)\n",
    "\n",
    "    history_xgb.loc[date, \"Daily_Energy_Consumption\"] = pred\n",
    "\n",
    "forecast_df[\"Daily_XGB\"] = xgb_preds\n",
    "forecast_df[\"Total_XGB\"] = total_xgb"
   ]
  },
  {
   "cell_type": "markdown",
   "id": "952b6c72",
   "metadata": {},
   "source": [
    "### August Forecast (31 days) with LSTM"
   ]
  },
  {
   "cell_type": "code",
   "execution_count": null,
   "id": "705b85a6",
   "metadata": {},
   "outputs": [],
   "source": [
    "lstm_preds = []\n",
    "total_lstm = []\n",
    "cur_total_lstm = last_total\n",
    "\n",
    "# Starting sequence (last 14 days)\n",
    "last_seq = series_scaled[-seq_len:].copy()\n",
    "\n",
    "for date in future_dates:\n",
    "    X_input = last_seq.reshape(1, seq_len, 1)\n",
    "    pred_scaled = model.predict(X_input, verbose=0)\n",
    "    pred = scaler.inverse_transform(pred_scaled)[0][0]\n",
    "\n",
    "    lstm_preds.append(pred)\n",
    "    cur_total_lstm += pred\n",
    "    total_lstm.append(cur_total_lstm)\n",
    "\n",
    "    # Add new value to the sequence, remove the oldest\n",
    "    new_val = pred_scaled[0][0]\n",
    "    last_seq = np.vstack([last_seq[1:], [[new_val]]])\n",
    "\n",
    "forecast_df[\"Daily_LSTM\"] = lstm_preds\n",
    "forecast_df[\"Total_LSTM\"] = total_lstm"
   ]
  },
  {
   "cell_type": "markdown",
   "id": "544402ce",
   "metadata": {},
   "source": [
    "### Visualization - Compare Models"
   ]
  },
  {
   "cell_type": "code",
   "execution_count": null,
   "id": "2ede2757",
   "metadata": {},
   "outputs": [],
   "source": [
    "plt.figure(figsize=(12,6))\n",
    "plt.plot(df.index, df[\"EnerjiAnalizor_Total_Kwh\"], label=\"Real Data\", color=\"black\")\n",
    "plt.plot(forecast_df.index, forecast_df[\"Total_RF\"], label=\"Random Forest Forecast\")\n",
    "plt.plot(forecast_df.index, forecast_df[\"Total_XGB\"], label=\"XGBoost Forecast\")\n",
    "plt.plot(forecast_df.index, forecast_df[\"Total_LSTM\"], label=\"LSTM Forecast\")\n",
    "plt.title(\"EnerjiAnalizor_Total_Kwh Forecast (August)\")\n",
    "plt.legend()\n",
    "plt.show()"
   ]
  },
  {
   "cell_type": "markdown",
   "id": "4f742238",
   "metadata": {},
   "source": [
    "### Save Models"
   ]
  },
  {
   "cell_type": "code",
   "execution_count": null,
   "id": "84009b77",
   "metadata": {},
   "outputs": [],
   "source": [
    "#joblib.dump(rf_energy, \"../models/model_randomforest.pkl\")\n",
    "#joblib.dump(xgb_energy, \"../models/model_xgb.pkl\")\n",
    "#joblib.dump(model, \"../models/model_lstm.keras\")"
   ]
  }
 ],
 "metadata": {
  "kernelspec": {
   "display_name": "Python 3",
   "language": "python",
   "name": "python3"
  },
  "language_info": {
   "name": "python",
   "version": "3.13.7"
  }
 },
 "nbformat": 4,
 "nbformat_minor": 5
}
